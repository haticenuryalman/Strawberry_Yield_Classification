{
  "nbformat": 4,
  "nbformat_minor": 0,
  "metadata": {
    "colab": {
      "provenance": []
    },
    "kernelspec": {
      "name": "python3",
      "display_name": "Python 3"
    },
    "language_info": {
      "name": "python"
    }
  },
  "cells": [
    {
      "cell_type": "code",
      "source": [
        "import pandas as pd\n",
        "\n",
        "# Doğru ayırıcı ile oku\n",
        "df = pd.read_csv(\"variable_strawberry.csv\", encoding=\"ISO-8859-9\", sep=\";\")\n",
        "\n",
        "# Sütun adlarını düzelt\n",
        "df.columns = df.columns.str.strip()\n",
        "df[\"Treatment\"] = df[\"Treatment\"].str.replace(\"*\", \"\", regex=False).str.strip()\n",
        "\n",
        "# İlk 5 satırı kontrol\n",
        "print(df.head())\n"
      ],
      "metadata": {
        "colab": {
          "base_uri": "https://localhost:8080/"
        },
        "id": "udrCx7uKkXQk",
        "outputId": "849d5e9c-93b0-4888-b19d-2a551e922b19"
      },
      "execution_count": null,
      "outputs": [
        {
          "output_type": "stream",
          "name": "stdout",
          "text": [
            "  Treatment Total number of fruits  (fruits/plant) Total fresh mass (g/plant)  \\\n",
            "0    V1B1D1                                  32,25                     322,00   \n",
            "1    V1B2D1                                  33,50                     400,75   \n",
            "2    V1B3D1                                  33,50                     330,00   \n",
            "3    V1B4D1                                  33,08                     350,92   \n",
            "4    V1B1D2                                  25,75                     231,75   \n",
            "\n",
            "  Comercial number of fruits (fruits/plant)  \\\n",
            "0                                     30,00   \n",
            "1                                     32,00   \n",
            "2                                     33,25   \n",
            "3                                     31,75   \n",
            "4                                     25,00   \n",
            "\n",
            "  Comercial mass fresh  (Fruits/ plant) Diameter (cm) Lenght (cm)  \\\n",
            "0                                317,50          2,51        2,90   \n",
            "1                                388,25          2,65        3,16   \n",
            "2                                341,75          2,38        3,07   \n",
            "3                                349,17          2,51        3,04   \n",
            "4                                230,50          2,21        2,76   \n",
            "\n",
            "  Total solids solubles (TSS) (ºBrix) Total yield (kg/m2)  \\\n",
            "0                                6,65                5,15   \n",
            "1                                6,36                6,41   \n",
            "2                                6,31                5,28   \n",
            "3                                6,44                5,61   \n",
            "4                                6,41                3,71   \n",
            "\n",
            "  Comercial yield  (kg/m2)  ...  Unnamed: 13 Unnamed: 14  Unnamed: 15  \\\n",
            "0                     5,08  ...          NaN         NaN          NaN   \n",
            "1                     6,21  ...          NaN         NaN          NaN   \n",
            "2                     5,47  ...          NaN         NaN          NaN   \n",
            "3                     5,59  ...          NaN         NaN          NaN   \n",
            "4                     3,69  ...          NaN         NaN          NaN   \n",
            "\n",
            "   Unnamed: 16  Unnamed: 17  Unnamed: 18  Unnamed: 19  Unnamed: 20  \\\n",
            "0          NaN          NaN          NaN          NaN          NaN   \n",
            "1          NaN          NaN          NaN          NaN          NaN   \n",
            "2          NaN          NaN          NaN          NaN          NaN   \n",
            "3          NaN          NaN          NaN          NaN          NaN   \n",
            "4          NaN          NaN          NaN          NaN          NaN   \n",
            "\n",
            "   Unnamed: 21  Unnamed: 22  \n",
            "0          NaN          NaN  \n",
            "1          NaN          NaN  \n",
            "2          NaN          NaN  \n",
            "3          NaN          NaN  \n",
            "4          NaN          NaN  \n",
            "\n",
            "[5 rows x 23 columns]\n"
          ]
        }
      ]
    },
    {
      "cell_type": "code",
      "execution_count": null,
      "metadata": {
        "colab": {
          "base_uri": "https://localhost:8080/"
        },
        "id": "x2ghi-Rd7GC7",
        "outputId": "404d78f4-bcb0-437f-bb56-c5128cabb8b2"
      },
      "outputs": [
        {
          "output_type": "stream",
          "name": "stdout",
          "text": [
            "['treatment', 'total_number_of_fruits__fruits/plant', 'total_fresh_mass_g/plant', 'comercial_number_of_fruits_fruits/plant', 'comercial_mass_fresh__fruits/_plant', 'diameter_cm', 'lenght_cm', 'total_solids_solubles_tss_ºbrix', 'total_yield_kg/m2', 'comercial_yield__kg/m2']\n"
          ]
        },
        {
          "output_type": "stream",
          "name": "stderr",
          "text": [
            "<ipython-input-5-cf542942257e>:8: SettingWithCopyWarning: \n",
            "A value is trying to be set on a copy of a slice from a DataFrame.\n",
            "Try using .loc[row_indexer,col_indexer] = value instead\n",
            "\n",
            "See the caveats in the documentation: https://pandas.pydata.org/pandas-docs/stable/user_guide/indexing.html#returning-a-view-versus-a-copy\n",
            "  df[\"treatment\"] = df[\"treatment\"].str.replace(\"*\", \"\", regex=False).str.strip()\n"
          ]
        }
      ],
      "source": [
        "# 1. Gereksiz unnamed sütunları temizle\n",
        "df = df.loc[:, ~df.columns.str.contains('^Unnamed')]\n",
        "\n",
        "# 2. Sütun adlarını sadeleştir (boşlukları alt çizgi yap, küçük harfe çevir)\n",
        "df.columns = df.columns.str.strip().str.lower().str.replace(\" \", \"_\").str.replace(\"(\", \"\").str.replace(\")\", \"\")\n",
        "\n",
        "# 3. Treatment sütununu düzelt\n",
        "df[\"treatment\"] = df[\"treatment\"].str.replace(\"*\", \"\", regex=False).str.strip()\n",
        "\n",
        "# 4. Kontrol: yeni sütun adları\n",
        "print(df.columns.tolist())\n"
      ]
    },
    {
      "cell_type": "code",
      "source": [
        "# Çeşit etiketini V1, V2... olarak çıkar\n",
        "df[\"label\"] = df[\"treatment\"].str.extract(r\"(?i)(v\\d)\", expand=False).str.upper()\n",
        "\n",
        "# Sınıf dağılımına bakalım\n",
        "print(df[\"label\"].value_counts())\n"
      ],
      "metadata": {
        "colab": {
          "base_uri": "https://localhost:8080/"
        },
        "id": "Xapo9kSoBJJQ",
        "outputId": "f32fd1b5-ed3e-4e34-cb97-1ac527f81abf"
      },
      "execution_count": null,
      "outputs": [
        {
          "output_type": "stream",
          "name": "stdout",
          "text": [
            "label\n",
            "V1    13\n",
            "V2    12\n",
            "V4    12\n",
            "V6    12\n",
            "V5    12\n",
            "V7    12\n",
            "V3    11\n",
            "Name: count, dtype: int64\n"
          ]
        }
      ]
    },
    {
      "cell_type": "code",
      "source": [
        "# Özellikleri X, etiketleri y olarak ayır\n",
        "X = df.drop(columns=[\"treatment\", \"label\"])\n",
        "y = df[\"label\"]\n"
      ],
      "metadata": {
        "id": "EF80WDpkALNs"
      },
      "execution_count": null,
      "outputs": []
    },
    {
      "cell_type": "code",
      "source": [
        "# Sadece sayısal sütunları hedef al\n",
        "for col in X.columns:\n",
        "    X[col] = X[col].str.replace(\",\", \".\", regex=False)\n",
        "    X[col] = X[col].astype(float)\n"
      ],
      "metadata": {
        "id": "6gbSGtx2CFGi"
      },
      "execution_count": null,
      "outputs": []
    },
    {
      "cell_type": "code",
      "source": [
        "from sklearn.preprocessing import StandardScaler\n",
        "\n",
        "scaler = StandardScaler()\n",
        "X_scaled = scaler.fit_transform(X)\n"
      ],
      "metadata": {
        "id": "RFwo8qSjBmx5"
      },
      "execution_count": null,
      "outputs": []
    },
    {
      "cell_type": "code",
      "source": [
        "from sklearn.model_selection import train_test_split\n",
        "\n",
        "X_train, X_test, y_train, y_test = train_test_split(\n",
        "    X_scaled, y, test_size=0.3, random_state=42, stratify=y\n",
        ")\n"
      ],
      "metadata": {
        "id": "IYY6Skh7CHR4"
      },
      "execution_count": null,
      "outputs": []
    },
    {
      "cell_type": "code",
      "source": [
        "from sklearn.svm import SVC\n",
        "\n",
        "model = SVC(kernel=\"rbf\", C=1.0, gamma=\"scale\", random_state=42)\n",
        "model.fit(X_train, y_train)\n"
      ],
      "metadata": {
        "colab": {
          "base_uri": "https://localhost:8080/",
          "height": 80
        },
        "id": "EUGky1H2CLxa",
        "outputId": "81698b0e-ffad-4688-c1f3-ed900613205c"
      },
      "execution_count": null,
      "outputs": [
        {
          "output_type": "execute_result",
          "data": {
            "text/plain": [
              "SVC(random_state=42)"
            ],
            "text/html": [
              "<style>#sk-container-id-1 {\n",
              "  /* Definition of color scheme common for light and dark mode */\n",
              "  --sklearn-color-text: #000;\n",
              "  --sklearn-color-text-muted: #666;\n",
              "  --sklearn-color-line: gray;\n",
              "  /* Definition of color scheme for unfitted estimators */\n",
              "  --sklearn-color-unfitted-level-0: #fff5e6;\n",
              "  --sklearn-color-unfitted-level-1: #f6e4d2;\n",
              "  --sklearn-color-unfitted-level-2: #ffe0b3;\n",
              "  --sklearn-color-unfitted-level-3: chocolate;\n",
              "  /* Definition of color scheme for fitted estimators */\n",
              "  --sklearn-color-fitted-level-0: #f0f8ff;\n",
              "  --sklearn-color-fitted-level-1: #d4ebff;\n",
              "  --sklearn-color-fitted-level-2: #b3dbfd;\n",
              "  --sklearn-color-fitted-level-3: cornflowerblue;\n",
              "\n",
              "  /* Specific color for light theme */\n",
              "  --sklearn-color-text-on-default-background: var(--sg-text-color, var(--theme-code-foreground, var(--jp-content-font-color1, black)));\n",
              "  --sklearn-color-background: var(--sg-background-color, var(--theme-background, var(--jp-layout-color0, white)));\n",
              "  --sklearn-color-border-box: var(--sg-text-color, var(--theme-code-foreground, var(--jp-content-font-color1, black)));\n",
              "  --sklearn-color-icon: #696969;\n",
              "\n",
              "  @media (prefers-color-scheme: dark) {\n",
              "    /* Redefinition of color scheme for dark theme */\n",
              "    --sklearn-color-text-on-default-background: var(--sg-text-color, var(--theme-code-foreground, var(--jp-content-font-color1, white)));\n",
              "    --sklearn-color-background: var(--sg-background-color, var(--theme-background, var(--jp-layout-color0, #111)));\n",
              "    --sklearn-color-border-box: var(--sg-text-color, var(--theme-code-foreground, var(--jp-content-font-color1, white)));\n",
              "    --sklearn-color-icon: #878787;\n",
              "  }\n",
              "}\n",
              "\n",
              "#sk-container-id-1 {\n",
              "  color: var(--sklearn-color-text);\n",
              "}\n",
              "\n",
              "#sk-container-id-1 pre {\n",
              "  padding: 0;\n",
              "}\n",
              "\n",
              "#sk-container-id-1 input.sk-hidden--visually {\n",
              "  border: 0;\n",
              "  clip: rect(1px 1px 1px 1px);\n",
              "  clip: rect(1px, 1px, 1px, 1px);\n",
              "  height: 1px;\n",
              "  margin: -1px;\n",
              "  overflow: hidden;\n",
              "  padding: 0;\n",
              "  position: absolute;\n",
              "  width: 1px;\n",
              "}\n",
              "\n",
              "#sk-container-id-1 div.sk-dashed-wrapped {\n",
              "  border: 1px dashed var(--sklearn-color-line);\n",
              "  margin: 0 0.4em 0.5em 0.4em;\n",
              "  box-sizing: border-box;\n",
              "  padding-bottom: 0.4em;\n",
              "  background-color: var(--sklearn-color-background);\n",
              "}\n",
              "\n",
              "#sk-container-id-1 div.sk-container {\n",
              "  /* jupyter's `normalize.less` sets `[hidden] { display: none; }`\n",
              "     but bootstrap.min.css set `[hidden] { display: none !important; }`\n",
              "     so we also need the `!important` here to be able to override the\n",
              "     default hidden behavior on the sphinx rendered scikit-learn.org.\n",
              "     See: https://github.com/scikit-learn/scikit-learn/issues/21755 */\n",
              "  display: inline-block !important;\n",
              "  position: relative;\n",
              "}\n",
              "\n",
              "#sk-container-id-1 div.sk-text-repr-fallback {\n",
              "  display: none;\n",
              "}\n",
              "\n",
              "div.sk-parallel-item,\n",
              "div.sk-serial,\n",
              "div.sk-item {\n",
              "  /* draw centered vertical line to link estimators */\n",
              "  background-image: linear-gradient(var(--sklearn-color-text-on-default-background), var(--sklearn-color-text-on-default-background));\n",
              "  background-size: 2px 100%;\n",
              "  background-repeat: no-repeat;\n",
              "  background-position: center center;\n",
              "}\n",
              "\n",
              "/* Parallel-specific style estimator block */\n",
              "\n",
              "#sk-container-id-1 div.sk-parallel-item::after {\n",
              "  content: \"\";\n",
              "  width: 100%;\n",
              "  border-bottom: 2px solid var(--sklearn-color-text-on-default-background);\n",
              "  flex-grow: 1;\n",
              "}\n",
              "\n",
              "#sk-container-id-1 div.sk-parallel {\n",
              "  display: flex;\n",
              "  align-items: stretch;\n",
              "  justify-content: center;\n",
              "  background-color: var(--sklearn-color-background);\n",
              "  position: relative;\n",
              "}\n",
              "\n",
              "#sk-container-id-1 div.sk-parallel-item {\n",
              "  display: flex;\n",
              "  flex-direction: column;\n",
              "}\n",
              "\n",
              "#sk-container-id-1 div.sk-parallel-item:first-child::after {\n",
              "  align-self: flex-end;\n",
              "  width: 50%;\n",
              "}\n",
              "\n",
              "#sk-container-id-1 div.sk-parallel-item:last-child::after {\n",
              "  align-self: flex-start;\n",
              "  width: 50%;\n",
              "}\n",
              "\n",
              "#sk-container-id-1 div.sk-parallel-item:only-child::after {\n",
              "  width: 0;\n",
              "}\n",
              "\n",
              "/* Serial-specific style estimator block */\n",
              "\n",
              "#sk-container-id-1 div.sk-serial {\n",
              "  display: flex;\n",
              "  flex-direction: column;\n",
              "  align-items: center;\n",
              "  background-color: var(--sklearn-color-background);\n",
              "  padding-right: 1em;\n",
              "  padding-left: 1em;\n",
              "}\n",
              "\n",
              "\n",
              "/* Toggleable style: style used for estimator/Pipeline/ColumnTransformer box that is\n",
              "clickable and can be expanded/collapsed.\n",
              "- Pipeline and ColumnTransformer use this feature and define the default style\n",
              "- Estimators will overwrite some part of the style using the `sk-estimator` class\n",
              "*/\n",
              "\n",
              "/* Pipeline and ColumnTransformer style (default) */\n",
              "\n",
              "#sk-container-id-1 div.sk-toggleable {\n",
              "  /* Default theme specific background. It is overwritten whether we have a\n",
              "  specific estimator or a Pipeline/ColumnTransformer */\n",
              "  background-color: var(--sklearn-color-background);\n",
              "}\n",
              "\n",
              "/* Toggleable label */\n",
              "#sk-container-id-1 label.sk-toggleable__label {\n",
              "  cursor: pointer;\n",
              "  display: flex;\n",
              "  width: 100%;\n",
              "  margin-bottom: 0;\n",
              "  padding: 0.5em;\n",
              "  box-sizing: border-box;\n",
              "  text-align: center;\n",
              "  align-items: start;\n",
              "  justify-content: space-between;\n",
              "  gap: 0.5em;\n",
              "}\n",
              "\n",
              "#sk-container-id-1 label.sk-toggleable__label .caption {\n",
              "  font-size: 0.6rem;\n",
              "  font-weight: lighter;\n",
              "  color: var(--sklearn-color-text-muted);\n",
              "}\n",
              "\n",
              "#sk-container-id-1 label.sk-toggleable__label-arrow:before {\n",
              "  /* Arrow on the left of the label */\n",
              "  content: \"▸\";\n",
              "  float: left;\n",
              "  margin-right: 0.25em;\n",
              "  color: var(--sklearn-color-icon);\n",
              "}\n",
              "\n",
              "#sk-container-id-1 label.sk-toggleable__label-arrow:hover:before {\n",
              "  color: var(--sklearn-color-text);\n",
              "}\n",
              "\n",
              "/* Toggleable content - dropdown */\n",
              "\n",
              "#sk-container-id-1 div.sk-toggleable__content {\n",
              "  max-height: 0;\n",
              "  max-width: 0;\n",
              "  overflow: hidden;\n",
              "  text-align: left;\n",
              "  /* unfitted */\n",
              "  background-color: var(--sklearn-color-unfitted-level-0);\n",
              "}\n",
              "\n",
              "#sk-container-id-1 div.sk-toggleable__content.fitted {\n",
              "  /* fitted */\n",
              "  background-color: var(--sklearn-color-fitted-level-0);\n",
              "}\n",
              "\n",
              "#sk-container-id-1 div.sk-toggleable__content pre {\n",
              "  margin: 0.2em;\n",
              "  border-radius: 0.25em;\n",
              "  color: var(--sklearn-color-text);\n",
              "  /* unfitted */\n",
              "  background-color: var(--sklearn-color-unfitted-level-0);\n",
              "}\n",
              "\n",
              "#sk-container-id-1 div.sk-toggleable__content.fitted pre {\n",
              "  /* unfitted */\n",
              "  background-color: var(--sklearn-color-fitted-level-0);\n",
              "}\n",
              "\n",
              "#sk-container-id-1 input.sk-toggleable__control:checked~div.sk-toggleable__content {\n",
              "  /* Expand drop-down */\n",
              "  max-height: 200px;\n",
              "  max-width: 100%;\n",
              "  overflow: auto;\n",
              "}\n",
              "\n",
              "#sk-container-id-1 input.sk-toggleable__control:checked~label.sk-toggleable__label-arrow:before {\n",
              "  content: \"▾\";\n",
              "}\n",
              "\n",
              "/* Pipeline/ColumnTransformer-specific style */\n",
              "\n",
              "#sk-container-id-1 div.sk-label input.sk-toggleable__control:checked~label.sk-toggleable__label {\n",
              "  color: var(--sklearn-color-text);\n",
              "  background-color: var(--sklearn-color-unfitted-level-2);\n",
              "}\n",
              "\n",
              "#sk-container-id-1 div.sk-label.fitted input.sk-toggleable__control:checked~label.sk-toggleable__label {\n",
              "  background-color: var(--sklearn-color-fitted-level-2);\n",
              "}\n",
              "\n",
              "/* Estimator-specific style */\n",
              "\n",
              "/* Colorize estimator box */\n",
              "#sk-container-id-1 div.sk-estimator input.sk-toggleable__control:checked~label.sk-toggleable__label {\n",
              "  /* unfitted */\n",
              "  background-color: var(--sklearn-color-unfitted-level-2);\n",
              "}\n",
              "\n",
              "#sk-container-id-1 div.sk-estimator.fitted input.sk-toggleable__control:checked~label.sk-toggleable__label {\n",
              "  /* fitted */\n",
              "  background-color: var(--sklearn-color-fitted-level-2);\n",
              "}\n",
              "\n",
              "#sk-container-id-1 div.sk-label label.sk-toggleable__label,\n",
              "#sk-container-id-1 div.sk-label label {\n",
              "  /* The background is the default theme color */\n",
              "  color: var(--sklearn-color-text-on-default-background);\n",
              "}\n",
              "\n",
              "/* On hover, darken the color of the background */\n",
              "#sk-container-id-1 div.sk-label:hover label.sk-toggleable__label {\n",
              "  color: var(--sklearn-color-text);\n",
              "  background-color: var(--sklearn-color-unfitted-level-2);\n",
              "}\n",
              "\n",
              "/* Label box, darken color on hover, fitted */\n",
              "#sk-container-id-1 div.sk-label.fitted:hover label.sk-toggleable__label.fitted {\n",
              "  color: var(--sklearn-color-text);\n",
              "  background-color: var(--sklearn-color-fitted-level-2);\n",
              "}\n",
              "\n",
              "/* Estimator label */\n",
              "\n",
              "#sk-container-id-1 div.sk-label label {\n",
              "  font-family: monospace;\n",
              "  font-weight: bold;\n",
              "  display: inline-block;\n",
              "  line-height: 1.2em;\n",
              "}\n",
              "\n",
              "#sk-container-id-1 div.sk-label-container {\n",
              "  text-align: center;\n",
              "}\n",
              "\n",
              "/* Estimator-specific */\n",
              "#sk-container-id-1 div.sk-estimator {\n",
              "  font-family: monospace;\n",
              "  border: 1px dotted var(--sklearn-color-border-box);\n",
              "  border-radius: 0.25em;\n",
              "  box-sizing: border-box;\n",
              "  margin-bottom: 0.5em;\n",
              "  /* unfitted */\n",
              "  background-color: var(--sklearn-color-unfitted-level-0);\n",
              "}\n",
              "\n",
              "#sk-container-id-1 div.sk-estimator.fitted {\n",
              "  /* fitted */\n",
              "  background-color: var(--sklearn-color-fitted-level-0);\n",
              "}\n",
              "\n",
              "/* on hover */\n",
              "#sk-container-id-1 div.sk-estimator:hover {\n",
              "  /* unfitted */\n",
              "  background-color: var(--sklearn-color-unfitted-level-2);\n",
              "}\n",
              "\n",
              "#sk-container-id-1 div.sk-estimator.fitted:hover {\n",
              "  /* fitted */\n",
              "  background-color: var(--sklearn-color-fitted-level-2);\n",
              "}\n",
              "\n",
              "/* Specification for estimator info (e.g. \"i\" and \"?\") */\n",
              "\n",
              "/* Common style for \"i\" and \"?\" */\n",
              "\n",
              ".sk-estimator-doc-link,\n",
              "a:link.sk-estimator-doc-link,\n",
              "a:visited.sk-estimator-doc-link {\n",
              "  float: right;\n",
              "  font-size: smaller;\n",
              "  line-height: 1em;\n",
              "  font-family: monospace;\n",
              "  background-color: var(--sklearn-color-background);\n",
              "  border-radius: 1em;\n",
              "  height: 1em;\n",
              "  width: 1em;\n",
              "  text-decoration: none !important;\n",
              "  margin-left: 0.5em;\n",
              "  text-align: center;\n",
              "  /* unfitted */\n",
              "  border: var(--sklearn-color-unfitted-level-1) 1pt solid;\n",
              "  color: var(--sklearn-color-unfitted-level-1);\n",
              "}\n",
              "\n",
              ".sk-estimator-doc-link.fitted,\n",
              "a:link.sk-estimator-doc-link.fitted,\n",
              "a:visited.sk-estimator-doc-link.fitted {\n",
              "  /* fitted */\n",
              "  border: var(--sklearn-color-fitted-level-1) 1pt solid;\n",
              "  color: var(--sklearn-color-fitted-level-1);\n",
              "}\n",
              "\n",
              "/* On hover */\n",
              "div.sk-estimator:hover .sk-estimator-doc-link:hover,\n",
              ".sk-estimator-doc-link:hover,\n",
              "div.sk-label-container:hover .sk-estimator-doc-link:hover,\n",
              ".sk-estimator-doc-link:hover {\n",
              "  /* unfitted */\n",
              "  background-color: var(--sklearn-color-unfitted-level-3);\n",
              "  color: var(--sklearn-color-background);\n",
              "  text-decoration: none;\n",
              "}\n",
              "\n",
              "div.sk-estimator.fitted:hover .sk-estimator-doc-link.fitted:hover,\n",
              ".sk-estimator-doc-link.fitted:hover,\n",
              "div.sk-label-container:hover .sk-estimator-doc-link.fitted:hover,\n",
              ".sk-estimator-doc-link.fitted:hover {\n",
              "  /* fitted */\n",
              "  background-color: var(--sklearn-color-fitted-level-3);\n",
              "  color: var(--sklearn-color-background);\n",
              "  text-decoration: none;\n",
              "}\n",
              "\n",
              "/* Span, style for the box shown on hovering the info icon */\n",
              ".sk-estimator-doc-link span {\n",
              "  display: none;\n",
              "  z-index: 9999;\n",
              "  position: relative;\n",
              "  font-weight: normal;\n",
              "  right: .2ex;\n",
              "  padding: .5ex;\n",
              "  margin: .5ex;\n",
              "  width: min-content;\n",
              "  min-width: 20ex;\n",
              "  max-width: 50ex;\n",
              "  color: var(--sklearn-color-text);\n",
              "  box-shadow: 2pt 2pt 4pt #999;\n",
              "  /* unfitted */\n",
              "  background: var(--sklearn-color-unfitted-level-0);\n",
              "  border: .5pt solid var(--sklearn-color-unfitted-level-3);\n",
              "}\n",
              "\n",
              ".sk-estimator-doc-link.fitted span {\n",
              "  /* fitted */\n",
              "  background: var(--sklearn-color-fitted-level-0);\n",
              "  border: var(--sklearn-color-fitted-level-3);\n",
              "}\n",
              "\n",
              ".sk-estimator-doc-link:hover span {\n",
              "  display: block;\n",
              "}\n",
              "\n",
              "/* \"?\"-specific style due to the `<a>` HTML tag */\n",
              "\n",
              "#sk-container-id-1 a.estimator_doc_link {\n",
              "  float: right;\n",
              "  font-size: 1rem;\n",
              "  line-height: 1em;\n",
              "  font-family: monospace;\n",
              "  background-color: var(--sklearn-color-background);\n",
              "  border-radius: 1rem;\n",
              "  height: 1rem;\n",
              "  width: 1rem;\n",
              "  text-decoration: none;\n",
              "  /* unfitted */\n",
              "  color: var(--sklearn-color-unfitted-level-1);\n",
              "  border: var(--sklearn-color-unfitted-level-1) 1pt solid;\n",
              "}\n",
              "\n",
              "#sk-container-id-1 a.estimator_doc_link.fitted {\n",
              "  /* fitted */\n",
              "  border: var(--sklearn-color-fitted-level-1) 1pt solid;\n",
              "  color: var(--sklearn-color-fitted-level-1);\n",
              "}\n",
              "\n",
              "/* On hover */\n",
              "#sk-container-id-1 a.estimator_doc_link:hover {\n",
              "  /* unfitted */\n",
              "  background-color: var(--sklearn-color-unfitted-level-3);\n",
              "  color: var(--sklearn-color-background);\n",
              "  text-decoration: none;\n",
              "}\n",
              "\n",
              "#sk-container-id-1 a.estimator_doc_link.fitted:hover {\n",
              "  /* fitted */\n",
              "  background-color: var(--sklearn-color-fitted-level-3);\n",
              "}\n",
              "</style><div id=\"sk-container-id-1\" class=\"sk-top-container\"><div class=\"sk-text-repr-fallback\"><pre>SVC(random_state=42)</pre><b>In a Jupyter environment, please rerun this cell to show the HTML representation or trust the notebook. <br />On GitHub, the HTML representation is unable to render, please try loading this page with nbviewer.org.</b></div><div class=\"sk-container\" hidden><div class=\"sk-item\"><div class=\"sk-estimator fitted sk-toggleable\"><input class=\"sk-toggleable__control sk-hidden--visually\" id=\"sk-estimator-id-1\" type=\"checkbox\" checked><label for=\"sk-estimator-id-1\" class=\"sk-toggleable__label fitted sk-toggleable__label-arrow\"><div><div>SVC</div></div><div><a class=\"sk-estimator-doc-link fitted\" rel=\"noreferrer\" target=\"_blank\" href=\"https://scikit-learn.org/1.6/modules/generated/sklearn.svm.SVC.html\">?<span>Documentation for SVC</span></a><span class=\"sk-estimator-doc-link fitted\">i<span>Fitted</span></span></div></label><div class=\"sk-toggleable__content fitted\"><pre>SVC(random_state=42)</pre></div> </div></div></div></div>"
            ]
          },
          "metadata": {},
          "execution_count": 11
        }
      ]
    },
    {
      "cell_type": "code",
      "source": [
        "from sklearn.metrics import classification_report, confusion_matrix\n",
        "\n",
        "y_pred = model.predict(X_test)\n",
        "\n",
        "print(\"=== Sınıflandırma Raporu ===\")\n",
        "print(classification_report(y_test, y_pred))\n",
        "\n",
        "print(\"=== Confusion Matrix ===\")\n",
        "print(confusion_matrix(y_test, y_pred))\n"
      ],
      "metadata": {
        "colab": {
          "base_uri": "https://localhost:8080/"
        },
        "id": "jUz7gg0aCOBa",
        "outputId": "286ac749-0b43-4cd7-dea6-885e062ce939"
      },
      "execution_count": null,
      "outputs": [
        {
          "output_type": "stream",
          "name": "stdout",
          "text": [
            "=== Sınıflandırma Raporu ===\n",
            "              precision    recall  f1-score   support\n",
            "\n",
            "          V1       0.80      1.00      0.89         4\n",
            "          V2       0.50      0.50      0.50         4\n",
            "          V3       0.50      1.00      0.67         3\n",
            "          V4       0.00      0.00      0.00         3\n",
            "          V5       0.75      0.75      0.75         4\n",
            "          V6       0.00      0.00      0.00         4\n",
            "          V7       0.67      0.50      0.57         4\n",
            "\n",
            "    accuracy                           0.54        26\n",
            "   macro avg       0.46      0.54      0.48        26\n",
            "weighted avg       0.48      0.54      0.49        26\n",
            "\n",
            "=== Confusion Matrix ===\n",
            "[[4 0 0 0 0 0 0]\n",
            " [0 2 2 0 0 0 0]\n",
            " [0 0 3 0 0 0 0]\n",
            " [0 1 0 0 1 1 0]\n",
            " [1 0 0 0 3 0 0]\n",
            " [0 0 1 2 0 0 1]\n",
            " [0 1 0 1 0 0 2]]\n"
          ]
        }
      ]
    },
    {
      "cell_type": "code",
      "source": [
        "import matplotlib.pyplot as plt\n",
        "from sklearn.metrics import ConfusionMatrixDisplay\n",
        "\n",
        "ConfusionMatrixDisplay.from_estimator(model, X_test, y_test, cmap='Blues')\n",
        "plt.title(\"Confusion Matrix\")\n",
        "plt.show()\n"
      ],
      "metadata": {
        "colab": {
          "base_uri": "https://localhost:8080/",
          "height": 472
        },
        "id": "E6V9ds72CTdC",
        "outputId": "30768e7c-461e-4ace-a1c7-a2bc49853721"
      },
      "execution_count": null,
      "outputs": [
        {
          "output_type": "display_data",
          "data": {
            "text/plain": [
              "<Figure size 640x480 with 2 Axes>"
            ],
            "image/png": "[encoded data removed]"
          },
          "metadata": {}
        }
      ]
    },
    {
      "cell_type": "code",
      "source": [
        "import pandas as pd\n",
        "\n",
        "# Veri setini doğru ayırıcıyla ve Türkçe karakter uyumlu şekilde oku\n",
        "df = pd.read_csv(\"variable_strawberry.csv\", encoding=\"ISO-8859-9\", sep=\";\")\n",
        "\n",
        "# Sütun adlarını temizle:\n",
        "# - küçük harfe çevir\n",
        "# - boşlukları alt çizgiyle değiştir\n",
        "# - parantezleri kaldır\n",
        "df.columns = df.columns.str.strip().str.lower().str.replace(\" \", \"_\").str.replace(\"(\", \"\").str.replace(\")\", \"\")\n",
        "\n",
        "# Excel'den kalan boş (unnamed) sütunlar varsa onları kaldır\n",
        "df = df.loc[:, ~df.columns.str.contains(\"unnamed\")]\n",
        "\n",
        "# Treatment sütunundaki \"*\" karakterini temizle\n",
        "df[\"treatment\"] = df[\"treatment\"].str.replace(\"*\", \"\", regex=False).str.strip()\n"
      ],
      "metadata": {
        "id": "NRRcjABxD0iU"
      },
      "execution_count": null,
      "outputs": []
    },
    {
      "cell_type": "code",
      "source": [
        "# Verim sütunundaki sayılar aslında string , bunu düzeltmemiz gerekiyor.\n",
        "# Virgülü noktaya çeviriyoruz, sonra float veri tipine dönüştürüyoruz.\n",
        "df[\"verim\"] = df[\"total_number_of_fruits__fruits/plant\"].str.replace(\",\", \".\").astype(float)\n",
        "\n",
        "# Verim değerlerinin medyanını buluyoruz.\n",
        "# Bu değeri eşik (threshold) olarak kullanacağız.\n",
        "threshold = df[\"verim\"].median()\n",
        "\n",
        "# Yeni bir etiket sütunu (label) oluşturuyoruz:\n",
        "# Verimi eşikten büyük olanları \"High\", küçük olanları \"Low\" olarak etiketliyoruz.\n",
        "df[\"label\"] = df[\"verim\"].apply(lambda x: \"High\" if x > threshold else \"Low\")\n",
        "\n",
        "# Etiketlerin kaçar tane olduğunu görelim\n",
        "print(df[\"label\"].value_counts())\n"
      ],
      "metadata": {
        "colab": {
          "base_uri": "https://localhost:8080/"
        },
        "id": "y3tRALJOD9wH",
        "outputId": "2fdf59b6-442f-4396-fbd1-bc07b46f4488"
      },
      "execution_count": null,
      "outputs": [
        {
          "output_type": "stream",
          "name": "stdout",
          "text": [
            "label\n",
            "Low     43\n",
            "High    41\n",
            "Name: count, dtype: int64\n"
          ]
        }
      ]
    },
    {
      "cell_type": "code",
      "source": [
        "# Hedef sütunları çıkar\n",
        "X = df.drop(columns=[\"treatment\", \"label\"])\n",
        "\n",
        "# Tüm sütunları tek tek kontrol ederek işlem yap\n",
        "for col in X.columns:\n",
        "    if X[col].dtype == \"object\":\n",
        "        # Eğer sütun string ise: virgül → nokta\n",
        "        X[col] = X[col].str.replace(\",\", \".\")\n",
        "    # Sonuç ne olursa olsun float'a dönüştür\n",
        "    X[col] = X[col].astype(float)\n",
        "\n",
        "# Etiket sütunu\n",
        "y = df[\"label\"]\n"
      ],
      "metadata": {
        "id": "Kik5INLED_LP"
      },
      "execution_count": null,
      "outputs": []
    },
    {
      "cell_type": "code",
      "source": [
        "from sklearn.model_selection import train_test_split\n",
        "from sklearn.preprocessing import StandardScaler\n",
        "\n",
        "# Veriyi eğitim ve test olarak ikiye ayır\n",
        "# stratify=y → High/Low oranı her iki grupta da aynı kalsın\n",
        "X_train, X_test, y_train, y_test = train_test_split(\n",
        "    X, y, test_size=0.3, random_state=42, stratify=y\n",
        ")\n",
        "\n",
        "# Sayısal veriler farklı aralıklarda olabilir\n",
        "# Bu yüzden tüm verileri ortalaması 0, standart sapması 1 olacak şekilde dönüştürüyoruz\n",
        "scaler = StandardScaler()\n",
        "\n",
        "# Eğitim verisini fit (öğren) + transform (dönüştür)\n",
        "X_train_scaled = scaler.fit_transform(X_train)\n",
        "\n",
        "# Test verisini sadece transform et (fit yok!)\n",
        "X_test_scaled = scaler.transform(X_test)\n"
      ],
      "metadata": {
        "id": "6xQ85hrmEVLq"
      },
      "execution_count": null,
      "outputs": []
    },
    {
      "cell_type": "code",
      "source": [
        "from sklearn.svm import SVC\n",
        "from sklearn.metrics import classification_report, confusion_matrix\n",
        "\n",
        "# SVM modelini tanımlıyoruz\n",
        "# kernel=\"rbf\"\n",
        "# C=1.0: hata toleransı (çok yüksek olursa overfitting yapabilir)\n",
        "# gamma=\"scale\"\n",
        "model = SVC(kernel=\"rbf\", C=1.0, gamma=\"scale\", random_state=42)\n",
        "\n",
        "# Modeli eğitim verisi ile eğitiyoruz\n",
        "model.fit(X_train_scaled, y_train)\n",
        "\n",
        "# Modeli test verisiyle tahmin ettiriyoruz\n",
        "y_pred = model.predict(X_test_scaled)\n"
      ],
      "metadata": {
        "id": "fPXzMBDsEcFP"
      },
      "execution_count": null,
      "outputs": []
    },
    {
      "cell_type": "code",
      "source": [
        "from sklearn.metrics import classification_report\n",
        "import pandas as pd\n",
        "\n",
        "# classification_report çıktısını sözlük olarak al\n",
        "report = classification_report(y_test, y_pred, output_dict=True)\n",
        "\n",
        "# Pandas DataFrame'e çevir\n",
        "report_df = pd.DataFrame(report).transpose()\n",
        "\n",
        "# Görüntüle\n",
        "print(report_df)\n"
      ],
      "metadata": {
        "colab": {
          "base_uri": "https://localhost:8080/"
        },
        "id": "eB-OYO2CywN3",
        "outputId": "c90f3497-95e6-4ace-8401-f35f80a93ca7"
      },
      "execution_count": null,
      "outputs": [
        {
          "output_type": "stream",
          "name": "stdout",
          "text": [
            "              precision  recall  f1-score  support\n",
            "High                1.0     1.0       1.0     13.0\n",
            "Low                 1.0     1.0       1.0     13.0\n",
            "accuracy            1.0     1.0       1.0      1.0\n",
            "macro avg           1.0     1.0       1.0     26.0\n",
            "weighted avg        1.0     1.0       1.0     26.0\n"
          ]
        }
      ]
    },
    {
      "cell_type": "code",
      "source": [
        "import matplotlib.pyplot as plt\n",
        "from sklearn.metrics import ConfusionMatrixDisplay\n",
        "\n",
        "# Confusion Matrix görselini oluştur\n",
        "ConfusionMatrixDisplay.from_estimator(\n",
        "    model,             # eğittiğimiz model\n",
        "    X_test_scaled,     # test verisi\n",
        "    y_test,            # gerçek etiketler\n",
        "    cmap=\"Blues\",\n",
        "    display_labels=[\"High\", \"Low\"]\n",
        ")\n",
        "\n",
        "\n",
        "plt.title(\"Confusion Matrix (SVM - High vs Low)\")\n",
        "plt.grid(False)\n",
        "plt.show()\n"
      ],
      "metadata": {
        "colab": {
          "base_uri": "https://localhost:8080/",
          "height": 472
        },
        "id": "1Sf1vkpmEqkj",
        "outputId": "ee3fe782-947d-43c7-f57e-5188795d3991"
      },
      "execution_count": null,
      "outputs": [
        {
          "output_type": "display_data",
          "data": {
            "text/plain": [
              "<Figure size 640x480 with 2 Axes>"
            ],
            "image/png": "[encoded data removed]"
          },
          "metadata": {}
        }
      ]
    },
    {
      "cell_type": "code",
      "source": [
        "from sklearn.model_selection import cross_val_score\n",
        "\n",
        "# Çapraz doğrulama: 5 parçalı (fold) test\n",
        "# accuracy: her turda doğruluk hesaplar\n",
        "scores = cross_val_score(model, X_scaled, y, cv=5, scoring=\"accuracy\")\n",
        "\n",
        "# Sonuçları yazdır\n",
        "print(\"Çapraz Doğrulama Doğruluk Skorları:\", scores)\n",
        "print(\"Ortalama Doğruluk:\", scores.mean())\n",
        "print(\"Standart Sapma:\", scores.std())\n"
      ],
      "metadata": {
        "colab": {
          "base_uri": "https://localhost:8080/"
        },
        "id": "3TO6HbnIFTd3",
        "outputId": "55f5678e-ce94-4294-fde2-65ec0a704feb"
      },
      "execution_count": null,
      "outputs": [
        {
          "output_type": "stream",
          "name": "stdout",
          "text": [
            "Çapraz Doğrulama Doğruluk Skorları: [0.82352941 0.94117647 0.88235294 0.88235294 1.        ]\n",
            "Ortalama Doğruluk: 0.9058823529411765\n",
            "Standart Sapma: 0.05998846486579749\n"
          ]
        }
      ]
    },
    {
      "cell_type": "code",
      "source": [
        "import matplotlib.pyplot as plt\n",
        "\n",
        "# Çapraz doğrulama doğruluk skorları\n",
        "scores = [0.82352941, 0.94117647, 0.88235294, 0.88235294, 1.0]\n",
        "folds = [f'Fold {i+1}' for i in range(5)]\n",
        "\n",
        "# Grafik oluşturma\n",
        "plt.figure(figsize=(8, 5))\n",
        "plt.plot(folds, scores, marker='o', linewidth=2, color='yellow')\n",
        "plt.ylim(0.75, 1.05)\n",
        "plt.title('5-Fold Çapraz Doğrulama Doğruluk Skorları')\n",
        "plt.xlabel('Fold')\n",
        "plt.ylabel('Doğruluk')\n",
        "plt.grid(True)\n",
        "plt.tight_layout()\n",
        "plt.show()\n"
      ],
      "metadata": {
        "colab": {
          "base_uri": "https://localhost:8080/",
          "height": 507
        },
        "id": "Z86ujwMvh02h",
        "outputId": "a68ef93f-e96c-4a9e-cdd1-f30c6e751894"
      },
      "execution_count": 2,
      "outputs": [
        {
          "output_type": "display_data",
          "data": {
            "text/plain": [
              "<Figure size 800x500 with 1 Axes>"
            ],
            "image/png": "[encoded data removed]"
          },
          "metadata": {}
        }
      ]
    },
    {
      "cell_type": "code",
      "source": [
        "from sklearn.metrics import roc_curve, auc\n",
        "from sklearn.preprocessing import LabelBinarizer\n",
        "import matplotlib.pyplot as plt\n",
        "\n",
        "# Etiketleri sayıya çevir (High = 1, Low = 0 gibi)\n",
        "lb = LabelBinarizer()\n",
        "y_test_bin = lb.fit_transform(y_test)\n",
        "\n",
        "# Modelin tahmin gücünü ölçmek için decision function kullanıyoruz\n",
        "y_scores = model.decision_function(X_test_scaled)\n",
        "\n",
        "# ROC eğrisi için false positive rate ve true positive rate hesapla\n",
        "fpr, tpr, thresholds = roc_curve(y_test_bin, y_scores)\n",
        "\n",
        "# Alan altı (AUC) = modelin ayrım gücü\n",
        "roc_auc = auc(fpr, tpr)\n",
        "\n",
        "# Çizim\n",
        "plt.plot(fpr, tpr, label=f\"ROC Curve (AUC = {roc_auc:.2f})\")\n",
        "plt.plot([0, 1], [0, 1], \"k--\")  # rastgele sınıflandırma çizgisi\n",
        "plt.xlabel(\"False Positive Rate\")\n",
        "plt.ylabel(\"True Positive Rate\")\n",
        "plt.title(\"ROC Curve - SVM\")\n",
        "plt.legend()\n",
        "plt.grid()\n",
        "plt.show()\n"
      ],
      "metadata": {
        "colab": {
          "base_uri": "https://localhost:8080/",
          "height": 472
        },
        "id": "K30j8lCuFj4L",
        "outputId": "24177532-f359-4596-f331-4fb6c1559c30"
      },
      "execution_count": null,
      "outputs": [
        {
          "output_type": "display_data",
          "data": {
            "text/plain": [
              "<Figure size 640x480 with 1 Axes>"
            ],
            "image/png": "[encoded data removed]"
          },
          "metadata": {}
        }
      ]
    },
    {
      "cell_type": "code",
      "source": [
        "from sklearn.model_selection import GridSearchCV\n",
        "\n",
        "# Denenecek parametreler\n",
        "param_grid = {\n",
        "    'C': [0.1, 1, 10],\n",
        "    'gamma': ['scale', 0.1, 1],\n",
        "    'kernel': ['rbf', 'linear']\n",
        "}\n",
        "\n",
        "# GridSearchCV objesini oluştur\n",
        "grid_search = GridSearchCV(SVC(), param_grid, cv=5, scoring='accuracy', n_jobs=-1)\n",
        "\n",
        "# Eğitimi başlat\n",
        "grid_search.fit(X_scaled, y)\n",
        "\n",
        "# En iyi parametreleri ve skorları yazdır\n",
        "print(\"En İyi Parametreler:\", grid_search.best_params_)\n",
        "print(\"En İyi Doğruluk:\", grid_search.best_score_)\n"
      ],
      "metadata": {
        "id": "jQMK3QBhFmpQ",
        "outputId": "ef927982-21fe-434d-cc4e-76a876a0d2a3",
        "colab": {
          "base_uri": "https://localhost:8080/"
        }
      },
      "execution_count": null,
      "outputs": [
        {
          "output_type": "stream",
          "name": "stdout",
          "text": [
            "En İyi Parametreler: {'C': 10, 'gamma': 'scale', 'kernel': 'linear'}\n",
            "En İyi Doğruluk: 0.9764705882352942\n"
          ]
        }
      ]
    }
  ]
}